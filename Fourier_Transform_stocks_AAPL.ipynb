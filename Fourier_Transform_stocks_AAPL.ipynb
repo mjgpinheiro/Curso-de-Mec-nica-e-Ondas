{
  "nbformat": 4,
  "nbformat_minor": 0,
  "metadata": {
    "colab": {
      "provenance": [],
      "authorship_tag": "ABX9TyM76ZB/M+v2Z5P30Cqpjka6",
      "include_colab_link": true
    },
    "kernelspec": {
      "name": "python3",
      "display_name": "Python 3"
    },
    "language_info": {
      "name": "python"
    }
  },
  "cells": [
    {
      "cell_type": "markdown",
      "metadata": {
        "id": "view-in-github",
        "colab_type": "text"
      },
      "source": [
        "<a href=\"https://colab.research.google.com/github/mjgpinheiro/Curso-de-Mec-nica-e-Ondas/blob/main/Fourier_Transform_stocks_AAPL.ipynb\" target=\"_parent\"><img src=\"https://colab.research.google.com/assets/colab-badge.svg\" alt=\"Open In Colab\"/></a>"
      ]
    },
    {
      "cell_type": "code",
      "execution_count": null,
      "metadata": {
        "id": "MIZc0K3G_bYg"
      },
      "outputs": [],
      "source": [
        "!pip install yfinance\n",
        "import yfinance as yf\n",
        "import numpy as np\n",
        "import scipy.fftpack\n",
        "\n",
        "# Collect historical price data\n",
        "aapl = yf.Ticker(\"AAPL\")\n",
        "prices = aapl.history(period=\"10d\")['Close'].values\n",
        "\n",
        "# Perform Fourier transform\n",
        "frequencies = scipy.fftpack.fftfreq(len(prices))\n",
        "spectrum = np.abs(scipy.fftpack.fft(prices))\n",
        "\n",
        "# Find dominant frequency\n",
        "dominant_frequency = frequencies[np.argmax(spectrum)]\n",
        "\n",
        "# Predict future trend for next 5 days\n",
        "if dominant_frequency > 0:\n",
        "    print(\"The stock is likely to increase in price over the next 5 days.\")\n",
        "else:\n",
        "    print(\"The stock is likely to decrease in price over the next 5 days.\")\n",
        "\n"
      ]
    }
  ]
}