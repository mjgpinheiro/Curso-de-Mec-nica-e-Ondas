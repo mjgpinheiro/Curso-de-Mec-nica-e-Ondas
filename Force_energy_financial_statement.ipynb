{
  "nbformat": 4,
  "nbformat_minor": 0,
  "metadata": {
    "colab": {
      "provenance": [],
      "authorship_tag": "ABX9TyOoM9ux0T/pRFA2tW784H2I",
      "include_colab_link": true
    },
    "kernelspec": {
      "name": "python3",
      "display_name": "Python 3"
    },
    "language_info": {
      "name": "python"
    }
  },
  "cells": [
    {
      "cell_type": "markdown",
      "metadata": {
        "id": "view-in-github",
        "colab_type": "text"
      },
      "source": [
        "<a href=\"https://colab.research.google.com/github/mjgpinheiro/Curso-de-Mec-nica-e-Ondas/blob/main/Force_energy_financial_statement.ipynb\" target=\"_parent\"><img src=\"https://colab.research.google.com/assets/colab-badge.svg\" alt=\"Open In Colab\"/></a>"
      ]
    },
    {
      "cell_type": "code",
      "execution_count": null,
      "metadata": {
        "id": "mXnEd2G9soSE"
      },
      "outputs": [],
      "source": [
        "import pandas as pd\n",
        "import numpy as np\n",
        "import matplotlib.pyplot as plt\n",
        "\n",
        "# Load financial statements\n",
        "balance_sheet = pd.read_csv('balance_sheet.csv')\n",
        "income_statement = pd.read_csv('income_statement.csv')\n",
        "cash_flow_statement = pd.read_csv('cash_flow_statement.csv')\n",
        "\n",
        "# Calculate financial ratios\n",
        "total_assets = balance_sheet.loc[balance_sheet['Account'] == 'Total Assets', 'Amount'].values[0]\n",
        "total_liabilities = balance_sheet.loc[balance_sheet['Account'] == 'Total Liabilities', 'Amount'].values[0]\n",
        "total_equity = balance_sheet.loc[balance_sheet['Account'] == 'Total Equity', 'Amount'].values[0]\n",
        "debt_to_equity = total_liabilities / total_equity\n",
        "\n",
        "revenue = income_statement.loc[income_statement['Account'] == 'Revenue', 'Amount'].values[0]\n",
        "net_income = income_statement.loc[income_statement['Account'] == 'Net Income', 'Amount'].values[0]\n",
        "profit_margin = net_income / revenue\n",
        "\n",
        "operating_cash_flow = cash_flow_statement.loc[cash_flow_statement['Account'] == 'Operating Cash Flow', 'Amount'].values[0]\n",
        "capital_expenditures = cash_flow_statement.loc[cash_flow_statement['Account'] == 'Capital Expenditures', 'Amount'].values[0]\n",
        "free_cash_flow = operating_cash_flow - capital_expenditures\n",
        "\n",
        "# Calculate forces and energy\n",
        "force = total_assets - total_liabilities\n",
        "kinetic_energy = 0.5 * total_assets * free_cash_flow**2\n",
        "\n",
        "# Print results\n",
        "print(\"Financial ratios:\")\n",
        "print(\"Debt to equity ratio:\", debt_to_equity)\n",
        "print(\"Profit margin:\", profit_margin)\n",
        "print(\"Free cash flow:\", free_cash_flow)\n",
        "print(\"\")\n",
        "\n",
        "print(\"Forces and energy:\")\n",
        "print(\"Force:\", force)\n",
        "print(\"Kinetic energy:\", kinetic_energy)\n",
        "\n",
        "# Plot results\n",
        "labels = ['Debt to Equity Ratio', 'Profit Margin', 'Free Cash Flow', 'Force', 'Kinetic Energy']\n",
        "values = [debt_to_equity, profit_margin, free_cash_flow, force, kinetic_energy]\n",
        "plt.bar(labels, values)\n",
        "plt.title(\"Financial Analysis\")\n",
        "plt.show()\n"
      ]
    }
  ]
}